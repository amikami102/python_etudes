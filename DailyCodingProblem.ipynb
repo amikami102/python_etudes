{
  "nbformat": 4,
  "nbformat_minor": 0,
  "metadata": {
    "colab": {
      "provenance": [],
      "authorship_tag": "ABX9TyNWnpqVRaNW1P+u+6G+BgGX",
      "include_colab_link": true
    },
    "kernelspec": {
      "name": "python3",
      "display_name": "Python 3"
    },
    "language_info": {
      "name": "python"
    }
  },
  "cells": [
    {
      "cell_type": "markdown",
      "metadata": {
        "id": "view-in-github",
        "colab_type": "text"
      },
      "source": [
        "<a href=\"https://colab.research.google.com/github/amikami102/python_etudes/blob/main/DailyCodingProblem.ipynb\" target=\"_parent\"><img src=\"https://colab.research.google.com/assets/colab-badge.svg\" alt=\"Open In Colab\"/></a>"
      ]
    },
    {
      "cell_type": "markdown",
      "source": [
        "The problems were sent daily from [Daily Coding Problem](https://www.dailycodingproblem.com/) email subscription (free tier). I try to use standard Python without third-party modules to solve the problems."
      ],
      "metadata": {
        "id": "adlIjmvvCqfu"
      }
    },
    {
      "cell_type": "markdown",
      "source": [
        "# 2022-08-05, Problem \\#1, Easy\n",
        "\n",
        "> Given a list of numbers and a number `k`, return whether any two numbers from the list add up to `k`.For example, given `[10, 15, 3, 7]` and `k` of `17`, return `True` since `10 + 7` is `17`.\n",
        "\n",
        "I use built-in `any` and nested `for` loop to iterate over the list twice to get pairwise sums of elements."
      ],
      "metadata": {
        "id": "CWC23eP9B-6K"
      }
    },
    {
      "cell_type": "code",
      "execution_count": 9,
      "metadata": {
        "id": "bphRI5ZxB4eR"
      },
      "outputs": [],
      "source": [
        "seq = [10, 15, 3, 7]\n",
        "k = 17\n",
        "assert any(n+m == k for n in sorted(seq) for m in sorted(seq))"
      ]
    },
    {
      "cell_type": "markdown",
      "source": [
        "# 2022-08-06, Problem \\#2, Medium\n",
        "\n",
        "> Given an array of integers, return a new array such that each element at index `i` of the new array is the product of all the numbers in the original array except the one at `i`. For example, if our input was `[1, 2, 3, 4, 5]`, the expected output would be `[120, 60, 40, 30, 24]`. If our input was `[3, 2, 1]`, the expected output would be `[2, 3, 6]`.\n",
        "\n",
        "\n",
        "I use slicing to get all the arrays up to and after index `i`."
      ],
      "metadata": {
        "id": "WsxQHkbHCoQy"
      }
    },
    {
      "cell_type": "code",
      "source": [
        "import math\n",
        "\n",
        "def all_other_product(nums: list[int]) -> list[int]:\n",
        "    \"\"\" Return a new sequence whose elements are the product of all the integers in the original sequence except at index `i`.\"\"\"\n",
        "    return [\n",
        "        math.prod(nums[:i]) * math.prod(nums[i+1:])\n",
        "        for i in range(len(nums))\n",
        "    ]\n",
        "\n",
        "assert all_other_product(seq) == [120, 60, 40, 30, 24]\n",
        "assert all_other_product([3, 2, 1]) == [2, 3, 6]"
      ],
      "metadata": {
        "id": "tn-R1ED5DaTO"
      },
      "execution_count": 8,
      "outputs": []
    },
    {
      "cell_type": "markdown",
      "source": [
        "# 2022-08-07, Problem \\#3, Hard\n",
        "\n",
        "> Given the root to a binary tree, implement `serialize(root)`, which serializes the tree into a string, and `deserialize(s)`, which deserializes the string back into the tree. For example, given the following `Node` class\n",
        "```python\n",
        "class Node:\n",
        "    def __init__(self, val: str, left: Node = None, right: Node = None):\n",
        "        self.val: str = val\n",
        "        self.left: Node = left\n",
        "        self.right: Node = right\n",
        "```\n",
        "the following test should pass:\n",
        "```python\n",
        "node = Node('root', Node('left', Node('left.left')), Node('right'))\n",
        "assert deserialize(serialize(node)).left.left.val == 'left.left'\n",
        "```\n",
        "\n",
        "It turns out this is a classic coding problem, so I found some helpful tutorials."
      ],
      "metadata": {
        "id": "wwRAaexSGgui"
      }
    },
    {
      "cell_type": "code",
      "source": [
        "from dataclasses import dataclass, field\n",
        "from collections import deque\n",
        "from typing import *\n",
        "\n",
        "SEP = ', '\n",
        "END = '()'\n",
        "\n",
        "\n",
        "@dataclass\n",
        "class Node:\n",
        "    val: str\n",
        "    left: Optional['Node'] = field(default=None)\n",
        "    right: Optional['Node'] = field(default=None)\n",
        "\n",
        "\n",
        "def serialize(root: Node) -> str:\n",
        "    \"\"\"\n",
        "    Serialize the binary tree, `tree`, by depth-first searching.\n",
        "    Keep track of the `val` string attribute of the nodes visited. If there is no more branch, add `END` to the key.\n",
        "    Return the keys as a `SEP`-joined string.\n",
        "    \"\"\"\n",
        "    tree: list[Node] = [root]\n",
        "    keys = []\n",
        "\n",
        "    while tree:\n",
        "        node = tree.pop()\n",
        "        if not node:\n",
        "            keys.append(END)\n",
        "        else:\n",
        "            keys.append(node.val)\n",
        "            tree.append(node.right)\n",
        "            tree.append(node.left) # add the left branch last so that it's the first one popped out\n",
        "    return SEP.join(keys)\n",
        "\n",
        "\n",
        "def deserialize(serialized_tree: str) -> Node:\n",
        "    \"\"\"\n",
        "    Deserialize `treekey` by reconstructing the root node of the binary tree encoded in `treekey`.\n",
        "    \"\"\"\n",
        "    def construct_root(iterator: Iterator[str]):\n",
        "        \"\"\" Construct the root node by recursively adding the branches. \"\"\"\n",
        "        key = next(iterator, None)\n",
        "        if not key or key == END:\n",
        "            return None\n",
        "\n",
        "        node = Node(key)\n",
        "        node.left = construct_root(iterator)\n",
        "        node.right = construct_root(iterator)\n",
        "        return node\n",
        "\n",
        "    node_iterator = iter(serialized_tree.split(SEP))\n",
        "    return construct_root(node_iterator)\n",
        "\n",
        "\n",
        "node = Node('root', Node('left', Node('left.left')), Node('right'))\n",
        "assert serialize(node) == 'root, left, left.left, (), (), (), right, (), ()'\n",
        "assert deserialize(serialize(node)).left.left.val == 'left.left'"
      ],
      "metadata": {
        "id": "gM-VN4dSHL-6"
      },
      "execution_count": 38,
      "outputs": []
    },
    {
      "cell_type": "markdown",
      "source": [
        "# 2023-08-08, Problem \\#4, Hard\n",
        "\n",
        "> Given an array of integers, find the first missing positive integer in linear time and constant space. In other words, find the lowest positive integer that does not exist in the array. The array can contain duplicates and negative numbers as well. For example, the input `[3, 4, -1, 1]` should give `2`. The input `[1, 2, 0]` should give `3`.\n",
        "\n",
        "My solution sorts the input sequence and then finds the first gap in the consecutive range."
      ],
      "metadata": {
        "id": "fg4qMT2Tf55f"
      }
    },
    {
      "cell_type": "code",
      "source": [
        "def find_smallest_positive(nums: list[int]) -> int:\n",
        "    \"\"\" Find the smallest missing positive integer from `nums`.\"\"\"\n",
        "    it = iter(sorted(nums))\n",
        "    last = next(it)\n",
        "    for k in it:\n",
        "        if k > last + 1 and last + 1 > 0:\n",
        "            return last + 1\n",
        "        last = k\n",
        "    return last + 1\n",
        "\n",
        "\n",
        "assert find_smallest_positive([3, 4, -1, 1]) == 2\n",
        "assert find_smallest_positive([1, 2, 0]) == 3\n",
        "assert find_smallest_positive([1, 1, 2, 0]) == 3"
      ],
      "metadata": {
        "id": "SZApG3_1gE_G"
      },
      "execution_count": 44,
      "outputs": []
    },
    {
      "cell_type": "markdown",
      "source": [
        "# 2023-08-09, Problem \\#5"
      ],
      "metadata": {
        "id": "TDO4QVawjBPA"
      }
    },
    {
      "cell_type": "code",
      "source": [],
      "metadata": {
        "id": "OWiAZ1cyjAzq"
      },
      "execution_count": null,
      "outputs": []
    }
  ]
}